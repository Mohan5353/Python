{
  "cells": [
    {
      "cell_type": "markdown",
      "metadata": {
        "id": "view-in-github",
        "colab_type": "text"
      },
      "source": [
        "<a href=\"https://colab.research.google.com/github/Mohan5353/Python/blob/main/MultiThreading_and_MultiProcessing.ipynb\" target=\"_parent\"><img src=\"https://colab.research.google.com/assets/colab-badge.svg\" alt=\"Open In Colab\"/></a>"
      ]
    },
    {
      "cell_type": "markdown",
      "id": "d4accac7",
      "metadata": {
        "id": "d4accac7"
      },
      "source": [
        "## Info about  System"
      ]
    },
    {
      "cell_type": "code",
      "execution_count": null,
      "id": "f00b6525",
      "metadata": {
        "id": "f00b6525",
        "outputId": "fbddb80a-66ec-4dff-c1e4-5e6d439f172e"
      },
      "outputs": [
        {
          "name": "stdout",
          "output_type": "stream",
          "text": [
            "ls: cpu: No such file or directory\r\n"
          ]
        }
      ],
      "source": [
        "# Number of CPUs and Threads in Linux.\n",
        "# Refer: https://linux.die.net/man/1/lscpu\n",
        "!ls cpu\n",
        "\n"
      ]
    },
    {
      "cell_type": "code",
      "execution_count": null,
      "id": "33ea2311",
      "metadata": {
        "id": "33ea2311",
        "outputId": "b3263b7d-d02e-43fc-8200-23fb05607f7a"
      },
      "outputs": [
        {
          "name": "stdout",
          "output_type": "stream",
          "text": [
            "zsh:1: command not found: wminc\r\n"
          ]
        }
      ],
      "source": [
        "# for Windows\n",
        "! wminc cpu"
      ]
    },
    {
      "cell_type": "code",
      "execution_count": null,
      "id": "1acc4d40",
      "metadata": {
        "id": "1acc4d40",
        "outputId": "3c9a49ab-2824-4ccb-c4c4-8aa9493a20fc"
      },
      "outputs": [
        {
          "name": "stdout",
          "output_type": "stream",
          "text": [
            "Hardware:\r\n",
            "\r\n",
            "    Hardware Overview:\r\n",
            "\r\n",
            "      Model Name: MacBook Pro\r\n",
            "      Model Identifier: MacBookPro17,1\r\n",
            "      Model Number: MYD82HN/A\r\n",
            "      Chip: Unknown\r\n",
            "      Total Number of Cores: 8 (4 performance and 4 efficiency)\r\n",
            "      Memory: 8 GB\r\n",
            "      System Firmware Version: 8422.141.2\r\n",
            "      OS Loader Version: 8422.141.2\r\n",
            "      Serial Number (system): FVFGJ4B5Q05D\r\n",
            "      Hardware UUID: 881B6070-72A3-5BA5-BE7F-66A9A9893B4A\r\n",
            "      Provisioning UDID: 881B6070-72A3-5BA5-BE7F-66A9A9893B4A\r\n",
            "      Activation Lock Status: Enabled\r\n",
            "\r\n"
          ]
        }
      ],
      "source": [
        "# for Mac\n",
        "!system_profiler SPHardwareDataType;"
      ]
    },
    {
      "cell_type": "markdown",
      "id": "ff0df4b7",
      "metadata": {
        "id": "ff0df4b7"
      },
      "source": [
        "## Generating Random Numbers"
      ]
    },
    {
      "cell_type": "code",
      "execution_count": null,
      "id": "dc8a94bf",
      "metadata": {
        "id": "dc8a94bf",
        "outputId": "1bc1a101-ae92-4f51-8c41-0bda68eb74d8"
      },
      "outputs": [
        {
          "name": "stdout",
          "output_type": "stream",
          "text": [
            "(100000000,)\n"
          ]
        }
      ],
      "source": [
        "import warnings\n",
        "warnings.filterwarnings(\"ignore\")\n",
        "\n",
        "# Generate random 100MM data points\n",
        "import numpy as np\n",
        "n =100000000\n",
        "d = np.random.rand(n)\n",
        "print(d.shape)"
      ]
    },
    {
      "cell_type": "markdown",
      "id": "caff4069",
      "metadata": {
        "id": "caff4069"
      },
      "source": [
        "## Simple Computation"
      ]
    },
    {
      "cell_type": "code",
      "execution_count": null,
      "id": "e84f2d6c",
      "metadata": {
        "id": "e84f2d6c",
        "outputId": "5bd1e17d-1524-446a-dfcc-1e78e648a718"
      },
      "outputs": [
        {
          "name": "stdout",
          "output_type": "stream",
          "text": [
            "Time Consumed :  18.124929904937744\n",
            "0.49996838540312877\n"
          ]
        }
      ],
      "source": [
        "import time\n",
        "def mean():\n",
        "    #Sum using for loops. We can use inbuilt NumPy Sum opeartion for better speed.\n",
        "    sum = 0\n",
        "    n=d.size\n",
        "    for i in range(n):\n",
        "        sum +=d[i]\n",
        "\n",
        "    #Mean\n",
        "    mean = sum/n\n",
        "    return mean\n",
        "\n",
        "\n",
        "#Time the execution\n",
        "start_time = time.time()\n",
        "m = mean() # compute mean of 100MM numbers.\n",
        "end_time = time.time()\n",
        "print (\"Time Consumed : \",end_time-start_time)\n",
        "print(m)"
      ]
    },
    {
      "cell_type": "markdown",
      "id": "70523743",
      "metadata": {
        "id": "70523743"
      },
      "source": [
        "## Using  MultiProcessing"
      ]
    },
    {
      "cell_type": "code",
      "execution_count": null,
      "id": "32b84737",
      "metadata": {
        "id": "32b84737",
        "outputId": "837eed7e-0727-4abd-8df2-e9bf402d99d7"
      },
      "outputs": [
        {
          "name": "stdout",
          "output_type": "stream",
          "text": [
            "Time Consumed :  7.235105037689209\n",
            "0.49996838540309685\n"
          ]
        }
      ],
      "source": [
        "#Refer: https://docs.python.org/3/library/multiprocessing.html\n",
        "from multiprocess import Process, Queue\n",
        "import math\n",
        "\n",
        "def mean_MP(s, e, q ):\n",
        "\n",
        "    #Sum using for loops. We can use inbuilt NumPy Sum opeartion for better speed.\n",
        "    sum = 0\n",
        "    for i in range(s,e+1):\n",
        "        sum +=d[i]\n",
        "\n",
        "    #Mean\n",
        "    mean = sum/(e-s+1)\n",
        "    q.put(mean)\n",
        "    return\n",
        "\n",
        "n1 = math.floor(n/2)\n",
        "\n",
        "q = Queue() #Queues are thread and process safe. For communicating between processes and threads.\n",
        "\n",
        "p1 = Process(target=mean_MP, args=(0, n1,q ))\n",
        "p2 = Process(target=mean_MP, args=(n1+1,n-1, q))\n",
        "\n",
        "\n",
        "#Time the execution\n",
        "start_time = time.time()\n",
        "\n",
        "p1.start()\n",
        "p2.start()\n",
        "\n",
        "p1.join() # Wait till p1 finishes\n",
        "p2.join()\n",
        "\n",
        "m=0;\n",
        "while not q.empty():\n",
        "     m += q.get()\n",
        "\n",
        "m /= 2;\n",
        "\n",
        "end_time = time.time()\n",
        "print (\"Time Consumed : \",end_time-start_time)\n",
        "print(m)\n"
      ]
    },
    {
      "cell_type": "markdown",
      "id": "54adec6e",
      "metadata": {
        "id": "54adec6e"
      },
      "source": [
        "## Using MultiThreading"
      ]
    },
    {
      "cell_type": "code",
      "execution_count": null,
      "id": "b9d0c28d",
      "metadata": {
        "id": "b9d0c28d",
        "outputId": "572eec1d-4759-44a2-9784-1590b3fac37d"
      },
      "outputs": [
        {
          "name": "stdout",
          "output_type": "stream",
          "text": [
            "Time Consumed :  14.255736112594604\n",
            "0.49996838540309685\n"
          ]
        }
      ],
      "source": [
        "#Refer: https://docs.python.org/3/library/threading.html\n",
        "from threading import Thread\n",
        "\n",
        "\n",
        "means = [0,0];\n",
        "\n",
        "def mean_MT(s, e, threadNum ):\n",
        "\n",
        "\n",
        "   #Sum using for loops. We can use inbuilt NumPy Sum opeartion for better speed.\n",
        "    sum = 0\n",
        "    for i in range(s,e+1):\n",
        "        sum +=d[i]\n",
        "\n",
        "    #Mean\n",
        "    mean = sum/(e-s+1)\n",
        "    means[threadNum] = mean; # means is a shared varibale between the threads\n",
        "\n",
        "    return\n",
        "\n",
        "n1 = math.floor(n/2)\n",
        "\n",
        "t1 = Thread(target=mean_MT, args=(0, n1,0 ))  # Third apram is the thread number\n",
        "t2 = Thread(target=mean_MT, args=(n1+1,n-1,1))\n",
        "\n",
        "#Time the execution\n",
        "start_time = time.time()\n",
        "\n",
        "t1.start()\n",
        "t2.start()\n",
        "\n",
        "t1.join() # Wait till t1 finishes\n",
        "t2.join()\n",
        "\n",
        "m = (means[0]+means[1])/2\n",
        "\n",
        "end_time = time.time()\n",
        "print (\"Time Consumed : \",end_time-start_time)\n",
        "print(m)\n",
        "\n"
      ]
    },
    {
      "cell_type": "markdown",
      "id": "64db2435",
      "metadata": {
        "id": "64db2435"
      },
      "source": [
        "## Using Caching"
      ]
    },
    {
      "cell_type": "code",
      "execution_count": null,
      "id": "06aaaa58",
      "metadata": {
        "id": "06aaaa58",
        "outputId": "022eabf3-9d21-4fc9-ae6a-88e8eb3d7019"
      },
      "outputs": [
        {
          "name": "stdout",
          "output_type": "stream",
          "text": [
            "[[0. 0. 1.]\n",
            " [1. 1. 1.]\n",
            " [4. 2. 1.]]\n",
            "[[ 0.  0.  1.]\n",
            " [ 1.  1.  1.]\n",
            " [16.  4.  1.]]\n"
          ]
        }
      ],
      "source": [
        "\n",
        "#Transparent and fast disk-caching of output value\n",
        "# Refer: https://joblib.readthedocs.io/en/latest/\n",
        "from joblib import Memory\n",
        "cachedir = './'\n",
        "mem = Memory(cachedir)\n",
        "\n",
        "import numpy as np\n",
        "\n",
        "a = np.vander(np.arange(3)).astype(\"float\")\n",
        "\n",
        "\n",
        "square = mem.cache(np.square)\n",
        "b = square(a)\n",
        "\n",
        "print(a)\n",
        "print(b)"
      ]
    },
    {
      "cell_type": "code",
      "execution_count": null,
      "id": "b4f5791c",
      "metadata": {
        "id": "b4f5791c"
      },
      "outputs": [],
      "source": [
        "c = square(a)\n",
        "# The above call did not trigger an evaluation"
      ]
    },
    {
      "cell_type": "markdown",
      "id": "df54e788",
      "metadata": {
        "id": "df54e788"
      },
      "source": [
        "## Joblib"
      ]
    },
    {
      "cell_type": "code",
      "execution_count": null,
      "id": "4a2f9698",
      "metadata": {
        "id": "4a2f9698",
        "outputId": "e449e74a-50ae-47b0-a087-8dfed950c48f"
      },
      "outputs": [
        {
          "name": "stdout",
          "output_type": "stream",
          "text": [
            "Time Consumed :  17.74006199836731\n"
          ]
        }
      ],
      "source": [
        "# Refer: https://joblib.readthedocs.io/en/latest/generated/joblib.Parallel.html\n",
        "\n",
        "import time\n",
        "from math import sqrt # inbuilt fucntion\n",
        "\n",
        "def f(i):\n",
        "\n",
        "    # some computations  that take time\n",
        "    x=10000\n",
        "    p =1;\n",
        "    for j in range(x):\n",
        "        for k in range(j):\n",
        "            p *= k\n",
        "\n",
        "    return sqrt(i ** 2);\n",
        "\n",
        "# Find f(x) of first n numbers\n",
        "n=10;\n",
        "\n",
        "start_time = time.time()\n",
        "\n",
        "for i in range(n):\n",
        "    f(i)\n",
        "\n",
        "end_time = time.time()\n",
        "print (\"Time Consumed : \",end_time-start_time)"
      ]
    },
    {
      "cell_type": "markdown",
      "id": "c2fd364a",
      "metadata": {
        "id": "c2fd364a"
      },
      "source": [
        "### Caching of function output values"
      ]
    },
    {
      "cell_type": "code",
      "execution_count": null,
      "id": "a3dece36",
      "metadata": {
        "id": "a3dece36",
        "outputId": "7e284522-6c2f-4621-fff3-3ed6d91d771e"
      },
      "outputs": [
        {
          "name": "stdout",
          "output_type": "stream",
          "text": [
            "Time Consumed :  10.814059019088745\n"
          ]
        }
      ],
      "source": [
        "from joblib import Parallel, delayed\n",
        "\n",
        "start_time = time.time()\n",
        "\n",
        "a = Parallel(n_jobs=2)(delayed(f)(i) for i in range(n))\n",
        "\n",
        "# Why we need dealyed(): https://stackoverflow.com/questions/42220458/what-does-the-delayed-function-do-when-used-with-joblib-in-python\n",
        "\n",
        "end_time = time.time()\n",
        "print (\"Time Consumed : \",end_time-start_time)"
      ]
    },
    {
      "cell_type": "code",
      "execution_count": null,
      "id": "96624ec6",
      "metadata": {
        "id": "96624ec6",
        "outputId": "9eebc2ca-5b7a-458a-b1b3-814a49023571"
      },
      "outputs": [
        {
          "name": "stdout",
          "output_type": "stream",
          "text": [
            "Time Consumed :  17.827778816223145\n"
          ]
        }
      ],
      "source": [
        "# Multi threading\n",
        "start_time = time.time()\n",
        "\n",
        "a = Parallel(n_jobs=2,prefer=\"threads\")(delayed(f)(i ** 2) for i in range(n))\n",
        "\n",
        "end_time = time.time()\n",
        "print (\"Time Consumed : \",end_time-start_time)"
      ]
    },
    {
      "cell_type": "code",
      "execution_count": null,
      "id": "84995421",
      "metadata": {
        "id": "84995421",
        "outputId": "b0a47f26-8062-4517-d42f-e31600cebff7"
      },
      "outputs": [
        {
          "name": "stdout",
          "output_type": "stream",
          "text": [
            "Time Consumed :  6.102927923202515\n"
          ]
        }
      ],
      "source": [
        "# 6 jobs\n",
        "\n",
        "from joblib import Parallel, delayed\n",
        "\n",
        "start_time = time.time()\n",
        "\n",
        "a = Parallel(n_jobs=6)(delayed(f)(i ** 2) for i in range(n))\n",
        "\n",
        "# Why we need delayed(): https://stackoverflow.com/questions/42220458/what-does-the-delayed-function-do-when-used-with-joblib-in-python\n",
        "\n",
        "end_time = time.time()\n",
        "print (\"Time Consumed : \",end_time-start_time)"
      ]
    },
    {
      "cell_type": "code",
      "execution_count": null,
      "id": "c6430d83",
      "metadata": {
        "id": "c6430d83"
      },
      "outputs": [],
      "source": []
    },
    {
      "cell_type": "markdown",
      "id": "97221910",
      "metadata": {
        "id": "97221910"
      },
      "source": [
        "# Matrix Multiplication : Numpy vs Numba"
      ]
    },
    {
      "cell_type": "code",
      "execution_count": null,
      "id": "947b18d8",
      "metadata": {
        "id": "947b18d8"
      },
      "outputs": [],
      "source": [
        "m, n, c = 1000,1500,1200\n",
        "A = np.random.randint(1,50,size=(m,n))\n",
        "B = np.random.randint(1,50,size=(n,c))"
      ]
    },
    {
      "cell_type": "markdown",
      "id": "4ce504c9",
      "metadata": {
        "id": "4ce504c9"
      },
      "source": [
        "## Basic Matrix Multiplication"
      ]
    },
    {
      "cell_type": "code",
      "execution_count": null,
      "id": "c5a9e84d",
      "metadata": {
        "id": "c5a9e84d"
      },
      "outputs": [],
      "source": [
        "import time\n",
        "def basic_mat_mult(A,B):\n",
        "    assert A.shape[1] == B.shape[0]\n",
        "    res = np.zeros((A.shape[0],B.shape[1]),)\n",
        "    for i in range(A.shape[0]):\n",
        "        for k in range(A.shape[1]):\n",
        "            for j in range(B.shape[1]):\n",
        "                res[i,j] += A[i,k] * B[k,j]\n",
        "    return res"
      ]
    },
    {
      "cell_type": "code",
      "execution_count": null,
      "id": "55af27e3",
      "metadata": {
        "id": "55af27e3",
        "outputId": "e402261a-cbcc-4c99-80ee-001082c4dbcf"
      },
      "outputs": [
        {
          "name": "stdout",
          "output_type": "stream",
          "text": [
            "Time Consumed :  928.7259409427643\n"
          ]
        }
      ],
      "source": [
        "start_time = time.time()\n",
        "\n",
        "res = basic_mat_mult(A, B)\n",
        "\n",
        "end_time = time.time()\n",
        "\n",
        "print (\"Time Consumed : \",end_time-start_time)"
      ]
    },
    {
      "cell_type": "markdown",
      "id": "581ee556",
      "metadata": {
        "id": "581ee556"
      },
      "source": [
        "## Numpy Implementation"
      ]
    },
    {
      "cell_type": "code",
      "execution_count": null,
      "id": "82409c9b",
      "metadata": {
        "id": "82409c9b",
        "outputId": "b4ee80f1-14d2-4d25-a63f-aa44c8e7112c"
      },
      "outputs": [
        {
          "name": "stdout",
          "output_type": "stream",
          "text": [
            "Time Consumed :  1.7552309036254883\n"
          ]
        }
      ],
      "source": [
        "start_time = time.time()\n",
        "\n",
        "res = np.matmul(A, B)\n",
        "\n",
        "end_time = time.time()\n",
        "\n",
        "print (\"Time Consumed : \",end_time-start_time)"
      ]
    },
    {
      "cell_type": "markdown",
      "id": "c937d441",
      "metadata": {
        "id": "c937d441"
      },
      "source": [
        "## Numba Implementation"
      ]
    },
    {
      "cell_type": "code",
      "execution_count": null,
      "id": "4713019c",
      "metadata": {
        "id": "4713019c"
      },
      "outputs": [],
      "source": [
        "from numba import njit,prange"
      ]
    },
    {
      "cell_type": "code",
      "execution_count": null,
      "id": "f9483b77",
      "metadata": {
        "id": "f9483b77",
        "outputId": "03675c71-f355-4ec2-a6a8-27264b403902"
      },
      "outputs": [
        {
          "name": "stdout",
          "output_type": "stream",
          "text": [
            "Time Consumed :  0.6493539810180664\n"
          ]
        }
      ],
      "source": [
        "@njit(parallel=True)\n",
        "def numba_mat_mult(A,B):\n",
        "    assert A.shape[1] == B.shape[0]\n",
        "    res = np.zeros((A.shape[0],B.shape[1]),)\n",
        "    for i in prange(A.shape[0]):\n",
        "        for k in prange(A.shape[1]):\n",
        "            for j in prange(B.shape[1]):\n",
        "                res[i,j] += A[i,k] * B[k,j]\n",
        "    return res\n",
        "\n",
        "start_time = time.time()\n",
        "\n",
        "res = numba_mat_mult(A, B)\n",
        "\n",
        "end_time = time.time()\n",
        "\n",
        "print (\"Time Consumed : \",end_time-start_time)"
      ]
    },
    {
      "cell_type": "code",
      "execution_count": null,
      "id": "69e4b35d",
      "metadata": {
        "id": "69e4b35d"
      },
      "outputs": [],
      "source": []
    },
    {
      "cell_type": "code",
      "execution_count": null,
      "id": "8104fbbd",
      "metadata": {
        "id": "8104fbbd"
      },
      "outputs": [],
      "source": []
    },
    {
      "cell_type": "code",
      "execution_count": null,
      "id": "672529cb",
      "metadata": {
        "id": "672529cb"
      },
      "outputs": [],
      "source": []
    },
    {
      "cell_type": "code",
      "execution_count": null,
      "id": "ccdab421",
      "metadata": {
        "id": "ccdab421"
      },
      "outputs": [],
      "source": []
    },
    {
      "cell_type": "code",
      "execution_count": null,
      "id": "c25134cf",
      "metadata": {
        "id": "c25134cf"
      },
      "outputs": [],
      "source": []
    },
    {
      "cell_type": "code",
      "execution_count": null,
      "id": "38338a28",
      "metadata": {
        "id": "38338a28"
      },
      "outputs": [],
      "source": []
    },
    {
      "cell_type": "code",
      "execution_count": null,
      "id": "18ef9fe1",
      "metadata": {
        "id": "18ef9fe1"
      },
      "outputs": [],
      "source": []
    },
    {
      "cell_type": "code",
      "execution_count": null,
      "id": "ba351ef4",
      "metadata": {
        "id": "ba351ef4"
      },
      "outputs": [],
      "source": []
    },
    {
      "cell_type": "code",
      "execution_count": null,
      "id": "a143eeda",
      "metadata": {
        "id": "a143eeda"
      },
      "outputs": [],
      "source": []
    },
    {
      "cell_type": "code",
      "execution_count": null,
      "id": "9e1391a8",
      "metadata": {
        "id": "9e1391a8"
      },
      "outputs": [],
      "source": []
    },
    {
      "cell_type": "code",
      "execution_count": null,
      "id": "5539df6a",
      "metadata": {
        "id": "5539df6a"
      },
      "outputs": [],
      "source": []
    },
    {
      "cell_type": "code",
      "execution_count": null,
      "id": "76ae82fb",
      "metadata": {
        "id": "76ae82fb"
      },
      "outputs": [],
      "source": []
    },
    {
      "cell_type": "code",
      "execution_count": null,
      "id": "07eae3c4",
      "metadata": {
        "id": "07eae3c4"
      },
      "outputs": [],
      "source": []
    },
    {
      "cell_type": "code",
      "execution_count": null,
      "id": "e411373d",
      "metadata": {
        "id": "e411373d"
      },
      "outputs": [],
      "source": []
    },
    {
      "cell_type": "code",
      "execution_count": null,
      "id": "b296dd2e",
      "metadata": {
        "id": "b296dd2e"
      },
      "outputs": [],
      "source": []
    },
    {
      "cell_type": "code",
      "execution_count": null,
      "id": "e5c3ce95",
      "metadata": {
        "id": "e5c3ce95"
      },
      "outputs": [],
      "source": []
    },
    {
      "cell_type": "code",
      "execution_count": null,
      "id": "88fd442a",
      "metadata": {
        "id": "88fd442a"
      },
      "outputs": [],
      "source": []
    },
    {
      "cell_type": "code",
      "execution_count": null,
      "id": "0857e971",
      "metadata": {
        "id": "0857e971"
      },
      "outputs": [],
      "source": []
    },
    {
      "cell_type": "code",
      "execution_count": null,
      "id": "28263f87",
      "metadata": {
        "id": "28263f87"
      },
      "outputs": [],
      "source": []
    },
    {
      "cell_type": "code",
      "execution_count": null,
      "id": "a5b9aa19",
      "metadata": {
        "id": "a5b9aa19"
      },
      "outputs": [],
      "source": []
    },
    {
      "cell_type": "code",
      "execution_count": null,
      "id": "355638d1",
      "metadata": {
        "id": "355638d1"
      },
      "outputs": [],
      "source": []
    },
    {
      "cell_type": "code",
      "execution_count": null,
      "id": "51371e49",
      "metadata": {
        "id": "51371e49"
      },
      "outputs": [],
      "source": []
    },
    {
      "cell_type": "code",
      "execution_count": null,
      "id": "205d852d",
      "metadata": {
        "id": "205d852d"
      },
      "outputs": [],
      "source": []
    },
    {
      "cell_type": "code",
      "execution_count": null,
      "id": "78fd2798",
      "metadata": {
        "id": "78fd2798"
      },
      "outputs": [],
      "source": []
    },
    {
      "cell_type": "code",
      "execution_count": null,
      "id": "5efd55a5",
      "metadata": {
        "id": "5efd55a5"
      },
      "outputs": [],
      "source": []
    },
    {
      "cell_type": "code",
      "execution_count": null,
      "id": "542d8a30",
      "metadata": {
        "id": "542d8a30"
      },
      "outputs": [],
      "source": []
    },
    {
      "cell_type": "code",
      "execution_count": null,
      "id": "2475db9d",
      "metadata": {
        "id": "2475db9d"
      },
      "outputs": [],
      "source": []
    },
    {
      "cell_type": "code",
      "execution_count": null,
      "id": "9053d2ba",
      "metadata": {
        "id": "9053d2ba"
      },
      "outputs": [],
      "source": []
    },
    {
      "cell_type": "code",
      "execution_count": null,
      "id": "45607bde",
      "metadata": {
        "id": "45607bde"
      },
      "outputs": [],
      "source": []
    },
    {
      "cell_type": "code",
      "execution_count": null,
      "id": "2fd8cbbd",
      "metadata": {
        "id": "2fd8cbbd"
      },
      "outputs": [],
      "source": []
    },
    {
      "cell_type": "code",
      "execution_count": null,
      "id": "bb1db772",
      "metadata": {
        "id": "bb1db772"
      },
      "outputs": [],
      "source": []
    }
  ],
  "metadata": {
    "kernelspec": {
      "display_name": "Python 3 (ipykernel)",
      "language": "python",
      "name": "python3"
    },
    "language_info": {
      "codemirror_mode": {
        "name": "ipython",
        "version": 3
      },
      "file_extension": ".py",
      "mimetype": "text/x-python",
      "name": "python",
      "nbconvert_exporter": "python",
      "pygments_lexer": "ipython3",
      "version": "3.9.7"
    },
    "varInspector": {
      "cols": {
        "lenName": 16,
        "lenType": 16,
        "lenVar": 40
      },
      "kernels_config": {
        "python": {
          "delete_cmd_postfix": "",
          "delete_cmd_prefix": "del ",
          "library": "var_list.py",
          "varRefreshCmd": "print(var_dic_list())"
        },
        "r": {
          "delete_cmd_postfix": ") ",
          "delete_cmd_prefix": "rm(",
          "library": "var_list.r",
          "varRefreshCmd": "cat(var_dic_list()) "
        }
      },
      "types_to_exclude": [
        "module",
        "function",
        "builtin_function_or_method",
        "instance",
        "_Feature"
      ],
      "window_display": false
    },
    "colab": {
      "provenance": [],
      "toc_visible": true,
      "include_colab_link": true
    }
  },
  "nbformat": 4,
  "nbformat_minor": 5
}